{
 "cells": [
  {
   "cell_type": "code",
   "execution_count": 1,
   "id": "5ddd5c3e-8b30-4f91-8c2d-59a76d0d4354",
   "metadata": {},
   "outputs": [],
   "source": [
    "import os\n",
    "# Set environment variables for controlling the number of threads in certain libraries\n",
    "os.environ[\"OMP_NUM_THREADS\"] = \"1\"\n",
    "os.environ[\"OPENBLAS_NUM_THREADS\"] = \"1\"\n",
    "os.environ[\"MKL_NUM_THREADS\"] = \"1\"\n",
    "os.environ[\"VECLIB_MAXIMUM_THREADS\"] = \"1\"\n",
    "os.environ[\"NUMEXPR_NUM_THREADS\"] = \"1\"\n",
    "import pandas as pd\n",
    "import numpy as np\n",
    "import time\n",
    "import math\n",
    "from itertools import product\n",
    "from sklearn.model_selection import train_test_split, ParameterGrid\n",
    "from sklearn.metrics import mean_squared_error, mean_absolute_error, r2_score, accuracy_score, balanced_accuracy_score, precision_score, recall_score, f1_score\n",
    "from sklearn.neighbors import KNeighborsClassifier\n",
    "from RuleTree.stumps.instance_stumps import * \n",
    "from sklearn.preprocessing import StandardScaler\n",
    "from sklearn.metrics import pairwise_distances\n",
    "pt_stump = pt_stump_call()"
   ]
  },
  {
   "cell_type": "code",
   "execution_count": 2,
   "id": "59c5310b-45eb-4e92-8d91-150a5ab87037",
   "metadata": {},
   "outputs": [],
   "source": [
    "from RuleTree import PairwiseDistanceTreeRegressor"
   ]
  },
  {
   "cell_type": "code",
   "execution_count": 3,
   "id": "5bc0a4c9-438c-4895-930d-6e9fffeb6f97",
   "metadata": {},
   "outputs": [],
   "source": [
    "from util_exp_funct import * "
   ]
  },
  {
   "cell_type": "code",
   "execution_count": 4,
   "id": "3675f4dc-5f80-41de-a441-b0def22364a3",
   "metadata": {},
   "outputs": [],
   "source": [
    "dataset_name = 'breast'\n",
    "dataframe = pd.read_csv(f'sensitivity_datasets/{dataset_name}.csv')\n",
    "feature_names = dataframe.drop(columns=['label']).columns"
   ]
  },
  {
   "cell_type": "code",
   "execution_count": 5,
   "id": "4e075c8a-46b2-4e40-b0b8-088513ad6b41",
   "metadata": {},
   "outputs": [],
   "source": [
    "feat_names = [\n",
    "    \"worst concave points\",\n",
    "    \"worst area\",\n",
    "    \"mean concave points\",\n",
    "    \"mean concavity\",\n",
    "    \"worst radius\",\n",
    "    \"worst perimeter\",\n",
    "    \"mean perimeter\",\n",
    "    \"area error\",\n",
    "    \"mean area\",\n",
    "    \"mean radius\"\n",
    "]\n"
   ]
  },
  {
   "cell_type": "code",
   "execution_count": 6,
   "id": "021f01c0-95c8-486c-8518-a93a219920c6",
   "metadata": {},
   "outputs": [
    {
     "data": {
      "text/plain": [
       "[0, 2, 3, 6, 7, 13, 20, 22, 23, 27]"
      ]
     },
     "execution_count": 6,
     "metadata": {},
     "output_type": "execute_result"
    }
   ],
   "source": [
    "column_indexes = []\n",
    "for e, name in enumerate(feature_names):\n",
    "    if name in feat_names:\n",
    "        column_indexes.append(e)\n",
    "\n",
    "column_indexes"
   ]
  },
  {
   "cell_type": "code",
   "execution_count": 7,
   "id": "5ebd4fbd-bb49-43f9-9ef3-1c08a81e0632",
   "metadata": {},
   "outputs": [
    {
     "name": "stderr",
     "output_type": "stream",
     "text": [
      "/tmp/ipykernel_1962903/1243262114.py:3: SettingWithCopyWarning: \n",
      "A value is trying to be set on a copy of a slice from a DataFrame.\n",
      "Try using .loc[row_indexer,col_indexer] = value instead\n",
      "\n",
      "See the caveats in the documentation: https://pandas.pydata.org/pandas-docs/stable/user_guide/indexing.html#returning-a-view-versus-a-copy\n",
      "  df_filtered['label'] = dataframe.label\n"
     ]
    }
   ],
   "source": [
    "df_filtered = dataframe.iloc[:, column_indexes]\n",
    "df_filtered\n",
    "df_filtered['label'] = dataframe.label\n",
    "feature_names = list(df_filtered.drop(columns=['label']).columns)\n"
   ]
  },
  {
   "cell_type": "code",
   "execution_count": 8,
   "id": "54555c6b-6490-4062-aefa-6c49805f00be",
   "metadata": {},
   "outputs": [],
   "source": [
    "dataframe = df_filtered"
   ]
  },
  {
   "cell_type": "code",
   "execution_count": 9,
   "id": "e2122743-4bb0-495d-a84b-4360e8892a3b",
   "metadata": {},
   "outputs": [
    {
     "data": {
      "text/html": [
       "<div>\n",
       "<style scoped>\n",
       "    .dataframe tbody tr th:only-of-type {\n",
       "        vertical-align: middle;\n",
       "    }\n",
       "\n",
       "    .dataframe tbody tr th {\n",
       "        vertical-align: top;\n",
       "    }\n",
       "\n",
       "    .dataframe thead th {\n",
       "        text-align: right;\n",
       "    }\n",
       "</style>\n",
       "<table border=\"1\" class=\"dataframe\">\n",
       "  <thead>\n",
       "    <tr style=\"text-align: right;\">\n",
       "      <th></th>\n",
       "      <th>mean radius</th>\n",
       "      <th>mean perimeter</th>\n",
       "      <th>mean area</th>\n",
       "      <th>mean concavity</th>\n",
       "      <th>mean concave points</th>\n",
       "      <th>area error</th>\n",
       "      <th>worst radius</th>\n",
       "      <th>worst perimeter</th>\n",
       "      <th>worst area</th>\n",
       "      <th>worst concave points</th>\n",
       "      <th>label</th>\n",
       "    </tr>\n",
       "  </thead>\n",
       "  <tbody>\n",
       "    <tr>\n",
       "      <th>0</th>\n",
       "      <td>17.99</td>\n",
       "      <td>122.80</td>\n",
       "      <td>1001.0</td>\n",
       "      <td>0.30010</td>\n",
       "      <td>0.14710</td>\n",
       "      <td>153.40</td>\n",
       "      <td>25.380</td>\n",
       "      <td>184.60</td>\n",
       "      <td>2019.0</td>\n",
       "      <td>0.2654</td>\n",
       "      <td>0</td>\n",
       "    </tr>\n",
       "    <tr>\n",
       "      <th>1</th>\n",
       "      <td>20.57</td>\n",
       "      <td>132.90</td>\n",
       "      <td>1326.0</td>\n",
       "      <td>0.08690</td>\n",
       "      <td>0.07017</td>\n",
       "      <td>74.08</td>\n",
       "      <td>24.990</td>\n",
       "      <td>158.80</td>\n",
       "      <td>1956.0</td>\n",
       "      <td>0.1860</td>\n",
       "      <td>0</td>\n",
       "    </tr>\n",
       "    <tr>\n",
       "      <th>2</th>\n",
       "      <td>19.69</td>\n",
       "      <td>130.00</td>\n",
       "      <td>1203.0</td>\n",
       "      <td>0.19740</td>\n",
       "      <td>0.12790</td>\n",
       "      <td>94.03</td>\n",
       "      <td>23.570</td>\n",
       "      <td>152.50</td>\n",
       "      <td>1709.0</td>\n",
       "      <td>0.2430</td>\n",
       "      <td>0</td>\n",
       "    </tr>\n",
       "    <tr>\n",
       "      <th>3</th>\n",
       "      <td>11.42</td>\n",
       "      <td>77.58</td>\n",
       "      <td>386.1</td>\n",
       "      <td>0.24140</td>\n",
       "      <td>0.10520</td>\n",
       "      <td>27.23</td>\n",
       "      <td>14.910</td>\n",
       "      <td>98.87</td>\n",
       "      <td>567.7</td>\n",
       "      <td>0.2575</td>\n",
       "      <td>0</td>\n",
       "    </tr>\n",
       "    <tr>\n",
       "      <th>4</th>\n",
       "      <td>20.29</td>\n",
       "      <td>135.10</td>\n",
       "      <td>1297.0</td>\n",
       "      <td>0.19800</td>\n",
       "      <td>0.10430</td>\n",
       "      <td>94.44</td>\n",
       "      <td>22.540</td>\n",
       "      <td>152.20</td>\n",
       "      <td>1575.0</td>\n",
       "      <td>0.1625</td>\n",
       "      <td>0</td>\n",
       "    </tr>\n",
       "    <tr>\n",
       "      <th>...</th>\n",
       "      <td>...</td>\n",
       "      <td>...</td>\n",
       "      <td>...</td>\n",
       "      <td>...</td>\n",
       "      <td>...</td>\n",
       "      <td>...</td>\n",
       "      <td>...</td>\n",
       "      <td>...</td>\n",
       "      <td>...</td>\n",
       "      <td>...</td>\n",
       "      <td>...</td>\n",
       "    </tr>\n",
       "    <tr>\n",
       "      <th>564</th>\n",
       "      <td>21.56</td>\n",
       "      <td>142.00</td>\n",
       "      <td>1479.0</td>\n",
       "      <td>0.24390</td>\n",
       "      <td>0.13890</td>\n",
       "      <td>158.70</td>\n",
       "      <td>25.450</td>\n",
       "      <td>166.10</td>\n",
       "      <td>2027.0</td>\n",
       "      <td>0.2216</td>\n",
       "      <td>0</td>\n",
       "    </tr>\n",
       "    <tr>\n",
       "      <th>565</th>\n",
       "      <td>20.13</td>\n",
       "      <td>131.20</td>\n",
       "      <td>1261.0</td>\n",
       "      <td>0.14400</td>\n",
       "      <td>0.09791</td>\n",
       "      <td>99.04</td>\n",
       "      <td>23.690</td>\n",
       "      <td>155.00</td>\n",
       "      <td>1731.0</td>\n",
       "      <td>0.1628</td>\n",
       "      <td>0</td>\n",
       "    </tr>\n",
       "    <tr>\n",
       "      <th>566</th>\n",
       "      <td>16.60</td>\n",
       "      <td>108.30</td>\n",
       "      <td>858.1</td>\n",
       "      <td>0.09251</td>\n",
       "      <td>0.05302</td>\n",
       "      <td>48.55</td>\n",
       "      <td>18.980</td>\n",
       "      <td>126.70</td>\n",
       "      <td>1124.0</td>\n",
       "      <td>0.1418</td>\n",
       "      <td>0</td>\n",
       "    </tr>\n",
       "    <tr>\n",
       "      <th>567</th>\n",
       "      <td>20.60</td>\n",
       "      <td>140.10</td>\n",
       "      <td>1265.0</td>\n",
       "      <td>0.35140</td>\n",
       "      <td>0.15200</td>\n",
       "      <td>86.22</td>\n",
       "      <td>25.740</td>\n",
       "      <td>184.60</td>\n",
       "      <td>1821.0</td>\n",
       "      <td>0.2650</td>\n",
       "      <td>0</td>\n",
       "    </tr>\n",
       "    <tr>\n",
       "      <th>568</th>\n",
       "      <td>7.76</td>\n",
       "      <td>47.92</td>\n",
       "      <td>181.0</td>\n",
       "      <td>0.00000</td>\n",
       "      <td>0.00000</td>\n",
       "      <td>19.15</td>\n",
       "      <td>9.456</td>\n",
       "      <td>59.16</td>\n",
       "      <td>268.6</td>\n",
       "      <td>0.0000</td>\n",
       "      <td>1</td>\n",
       "    </tr>\n",
       "  </tbody>\n",
       "</table>\n",
       "<p>569 rows × 11 columns</p>\n",
       "</div>"
      ],
      "text/plain": [
       "     mean radius  mean perimeter  mean area  mean concavity  \\\n",
       "0          17.99          122.80     1001.0         0.30010   \n",
       "1          20.57          132.90     1326.0         0.08690   \n",
       "2          19.69          130.00     1203.0         0.19740   \n",
       "3          11.42           77.58      386.1         0.24140   \n",
       "4          20.29          135.10     1297.0         0.19800   \n",
       "..           ...             ...        ...             ...   \n",
       "564        21.56          142.00     1479.0         0.24390   \n",
       "565        20.13          131.20     1261.0         0.14400   \n",
       "566        16.60          108.30      858.1         0.09251   \n",
       "567        20.60          140.10     1265.0         0.35140   \n",
       "568         7.76           47.92      181.0         0.00000   \n",
       "\n",
       "     mean concave points  area error  worst radius  worst perimeter  \\\n",
       "0                0.14710      153.40        25.380           184.60   \n",
       "1                0.07017       74.08        24.990           158.80   \n",
       "2                0.12790       94.03        23.570           152.50   \n",
       "3                0.10520       27.23        14.910            98.87   \n",
       "4                0.10430       94.44        22.540           152.20   \n",
       "..                   ...         ...           ...              ...   \n",
       "564              0.13890      158.70        25.450           166.10   \n",
       "565              0.09791       99.04        23.690           155.00   \n",
       "566              0.05302       48.55        18.980           126.70   \n",
       "567              0.15200       86.22        25.740           184.60   \n",
       "568              0.00000       19.15         9.456            59.16   \n",
       "\n",
       "     worst area  worst concave points  label  \n",
       "0        2019.0                0.2654      0  \n",
       "1        1956.0                0.1860      0  \n",
       "2        1709.0                0.2430      0  \n",
       "3         567.7                0.2575      0  \n",
       "4        1575.0                0.1625      0  \n",
       "..          ...                   ...    ...  \n",
       "564      2027.0                0.2216      0  \n",
       "565      1731.0                0.1628      0  \n",
       "566      1124.0                0.1418      0  \n",
       "567      1821.0                0.2650      0  \n",
       "568       268.6                0.0000      1  \n",
       "\n",
       "[569 rows x 11 columns]"
      ]
     },
     "execution_count": 9,
     "metadata": {},
     "output_type": "execute_result"
    }
   ],
   "source": [
    "dataframe"
   ]
  },
  {
   "cell_type": "code",
   "execution_count": 10,
   "id": "60da0b00-cc45-4888-a8b9-28cabb641293",
   "metadata": {},
   "outputs": [],
   "source": [
    "X = dataframe.drop(columns = ['label']).values\n",
    "y = np.array(dataframe.label)\n",
    "X_train, X_test, y_train, y_test = train_test_split(X, y, test_size=0.2, stratify=y, random_state=42)\n",
    "\n"
   ]
  },
  {
   "cell_type": "code",
   "execution_count": 11,
   "id": "d028ff89-f3b2-4a03-8779-ff19578db085",
   "metadata": {},
   "outputs": [],
   "source": [
    "num_samples = X_train.shape[0]  \n",
    "percentages = [0.5] # Ensures 1.0 is included\n",
    "sample_sizes = [math.floor(num_samples * p) for p in percentages]"
   ]
  },
  {
   "cell_type": "code",
   "execution_count": 12,
   "id": "bd50a418-431e-4d48-8c84-b6cb2a4eb970",
   "metadata": {},
   "outputs": [
    {
     "name": "stdout",
     "output_type": "stream",
     "text": [
      "PERC 0.5\n"
     ]
    }
   ],
   "source": [
    "fix_feat_dic = { 'feat_with_thr' : [True, True] }\n",
    "absolute_val_dict = { 'both_original_and_diff' : [True, True] }\n",
    "\n",
    "np.random.seed(90)  # Fix random seed\n",
    "all_results_across_seeds = []\n",
    "all_results_one_seed = []\n",
    "\n",
    "perc, sample_size = 0.5, sample_sizes[-1]\n",
    "print('PERC', perc)\n",
    "\n",
    "results = {'dataset_name': dataset_name, 'random_seed': 90, 'perc': perc, 'sample_size': sample_size}\n",
    "\n",
    "random_indices, selection_time = measure_time(np.random.choice, X_train.shape[0], sample_size, replace=False)        \n",
    "X_train_N, y_train_N = X_train[random_indices], y_train[random_indices]\n",
    "scaler = StandardScaler()\n",
    "\n",
    "_, scaler_fit_time = measure_time(scaler.fit, X_train_N)\n",
    "X_train_scaled, _ = measure_time(scaler.transform, X_train) \n",
    "X_train_N_scaled, _ = measure_time(scaler.transform, X_train_N)\n",
    "X_test_scaled, _ = measure_time(scaler.transform, X_test)\n",
    "\n",
    "dist_matrix_X_train_N_scaled, _ = measure_time(pairwise_distances, X_train_N_scaled, metric='euclidean')\n",
    "dist_matrix_X_test_scaled, _ = measure_time(pairwise_distances, X_test_scaled, metric='euclidean')\n",
    "\n",
    "df_X_train_N_scaled = df_pairwise(X_train_N_scaled, feature_names, dist_matrix_X_train_N_scaled, consider_abs_diff=True)\n",
    "df_X_test_scaled = df_pairwise(X_test_scaled, feature_names, dist_matrix_X_test_scaled, consider_abs_diff=True)\n",
    "\n",
    "new_feature_names = list(df_X_train_N_scaled.drop(columns=['indexes', 'overall_euclidean_distance_sklr']).columns)\n",
    "X_train_N_scaled_pairwise = df_X_train_N_scaled[new_feature_names].values        \n",
    "y_train_N_scaled_pairwise = df_X_train_N_scaled['overall_euclidean_distance_sklr'].values\n",
    "X_test_scaled_pairwise = df_X_test_scaled[new_feature_names].values\n",
    "y_test_scaled_pairwise = df_X_test_scaled['overall_euclidean_distance_sklr'].values\n",
    "\n",
    "all_model_results_for_perc = []\n",
    "\n",
    "max_depth = 4\n",
    "fix_feature, fix_threshold = True, True\n",
    "params_model = {'max_depth': max_depth, 'min_samples_leaf': 1, 'min_samples_split': 2,\n",
    "                'random_state': 42, 'fix_feature': fix_feature, 'fix_threshold': fix_threshold}\n",
    "\n",
    "model = PairwiseDistanceTreeRegressor(**params_model)\n",
    "_, train_time = measure_time(model.fit, X_train_N_scaled, y_train_N_scaled_pairwise, X_train_N_scaled_pairwise)\n",
    "\n",
    "importance_dict = {k: v for k, v in zip(new_feature_names, model.compute_feature_importances())}\n",
    "\n",
    "X_train_curr, y_train_curr = X_train_scaled, y_train\n",
    "res_r1_r2_test, knn_test_matrix_r1_r2 = concat_for_prediction(\n",
    "    X_test_scaled, X_train_curr, feature_names, model, r1_r2_order=True, consider_abs_diff=True)\n",
    "res_r1_r2_train, knn_train_matrix_r1_r2 = concat_for_prediction(\n",
    "    X_train_curr, X_train_curr, feature_names, model, r1_r2_order=True, consider_abs_diff=True)\n",
    "\n",
    "train_matrix = knn_train_matrix_r1_r2\n",
    "test_matrix = knn_test_matrix_r1_r2\n",
    "\n",
    "predictions = {\"prediction_res_r1_r2_test\": np.array(res_r1_r2_test['prediction'])}\n",
    "\n",
    "knn_model = KNeighborsClassifier(n_neighbors=3, metric='precomputed')\n",
    "\n",
    "knn_euclid = KNeighborsClassifier(n_neighbors=3)\n",
    "\n",
    "knn_euclid.fit(X_train_curr, y_train_curr)\n",
    "\n",
    "_, train_time = measure_time(knn_model.fit, train_matrix , y_train_curr)\n",
    "\n",
    "y_pred_train, _ = measure_time(knn_model.predict, train_matrix)\n",
    "y_pred_test, _ = measure_time(knn_model.predict, test_matrix)\n",
    "\n",
    "all_model_results_for_perc.append({\n",
    "    'dataset_type': 'full_dataset',\n",
    "    'train_test_case': 'train_test_r1_r2_r1_r2',\n",
    "    'predictions': predictions,\n",
    "    'knn_params': {'n_neighbors': 3},\n",
    "    'importance_dict': importance_dict,\n",
    "    'train_time': train_time,\n",
    "    'metrics_train': compute_metrics_classifier(y_train_curr, y_pred_train, 'KNN_measure_train'),\n",
    "    'metrics_test': compute_metrics_classifier(y_test, y_pred_test, 'KNN_measure_test')\n",
    "})\n",
    "\n",
    "all_results_one_seed.append(all_model_results_for_perc)\n",
    "all_results_across_seeds.append(all_results_one_seed)\n"
   ]
  },
  {
   "cell_type": "code",
   "execution_count": 13,
   "id": "eac3662c-b4a9-4e4f-9c06-55bbb927c464",
   "metadata": {},
   "outputs": [],
   "source": [
    "pd.set_option('display.max_columns', None)"
   ]
  },
  {
   "cell_type": "code",
   "execution_count": 14,
   "id": "9ad2235c-d273-46ea-967b-f01e4a9599c3",
   "metadata": {},
   "outputs": [
    {
     "data": {
      "text/plain": [
       "0"
      ]
     },
     "execution_count": 14,
     "metadata": {},
     "output_type": "execute_result"
    }
   ],
   "source": [
    "y_test[105]"
   ]
  },
  {
   "cell_type": "code",
   "execution_count": 15,
   "id": "3c7b775a-27ac-4ce3-af54-cb5fd1427ebd",
   "metadata": {},
   "outputs": [
    {
     "data": {
      "text/plain": [
       "array([0, 1, 1, 1, 0, 1, 1, 0, 0, 0, 1, 1, 1, 0, 1, 1, 1, 1, 1, 1, 1, 0,\n",
       "       1, 1, 1, 1, 0, 1, 1, 1, 1, 1, 1, 1, 0, 1, 1, 1, 1, 0, 1, 1, 1, 0,\n",
       "       1, 1, 1, 1, 1, 0, 1, 1, 1, 1, 1, 1, 1, 0, 0, 1, 1, 1, 1, 1, 0, 1,\n",
       "       1, 1, 1, 1, 1, 1, 1, 0, 0, 0, 1, 1, 1, 1, 1, 1, 0, 1, 1, 1, 1, 1,\n",
       "       1, 1, 1, 1, 0, 0, 0, 1, 0, 1, 1, 1, 0, 0, 0, 1, 0, 0, 1, 0, 1, 0,\n",
       "       1, 0, 1, 1])"
      ]
     },
     "execution_count": 15,
     "metadata": {},
     "output_type": "execute_result"
    }
   ],
   "source": [
    "knn_model.predict(test_matrix)"
   ]
  },
  {
   "cell_type": "code",
   "execution_count": 16,
   "id": "b955921c-a4b7-48ed-b606-0fc5f57346fa",
   "metadata": {},
   "outputs": [
    {
     "data": {
      "text/plain": [
       "0"
      ]
     },
     "execution_count": 16,
     "metadata": {},
     "output_type": "execute_result"
    }
   ],
   "source": [
    "y_test[105]"
   ]
  },
  {
   "cell_type": "code",
   "execution_count": 17,
   "id": "424bffee-ffcd-4e9a-a5e0-ac6ee2562a50",
   "metadata": {},
   "outputs": [],
   "source": [
    "#knn_model.kneighbors(X=test_matrix, n_neighbors=3, return_distance=True)"
   ]
  },
  {
   "cell_type": "code",
   "execution_count": 18,
   "id": "6276f638-8bee-493c-baa5-fe70784fd895",
   "metadata": {},
   "outputs": [
    {
     "data": {
      "text/plain": [
       "array([0])"
      ]
     },
     "execution_count": 18,
     "metadata": {},
     "output_type": "execute_result"
    }
   ],
   "source": [
    "knn_model.predict(np.array([test_matrix[105]])) #predizione giusta"
   ]
  },
  {
   "cell_type": "code",
   "execution_count": 19,
   "id": "77577d97-2601-4282-af88-33d9ababd95a",
   "metadata": {},
   "outputs": [
    {
     "data": {
      "text/plain": [
       "(array([[1.90534659, 3.63334293, 3.63334293]]), array([[36, 31, 89]]))"
      ]
     },
     "execution_count": 19,
     "metadata": {},
     "output_type": "execute_result"
    }
   ],
   "source": [
    "knn_model.kneighbors(X=np.array([test_matrix[105]]), n_neighbors=3, return_distance=True)"
   ]
  },
  {
   "cell_type": "code",
   "execution_count": 20,
   "id": "e0360804-7e13-499d-abe1-5fa6b4871e9d",
   "metadata": {},
   "outputs": [
    {
     "name": "stdout",
     "output_type": "stream",
     "text": [
      "|--- worst perimeter_abs_diff <= 1.481\t51529\n",
      "|   |--- worst perimeter_abs_diff <= 0.71\t35869\n",
      "|   |   |--- mean concavity_abs_diff <= 1.122\t21483\n",
      "|   |   |   |--- mean area_abs_diff <= 0.446\t17683\n",
      "|   |   |   |    output: 1.16\n",
      "|   |   |   |--- mean area_abs_diff > 0.446\n",
      "|   |   |   |    output: 1.91\n",
      "|   |   |--- mean concavity_abs_diff > 1.122\n",
      "|   |   |   |--- mean concavity_abs_diff <= 2.227\t3800\n",
      "|   |   |   |    output: 2.7\n",
      "|   |   |   |--- mean concavity_abs_diff > 2.227\n",
      "|   |   |   |    output: 4.22\n",
      "|   |--- worst perimeter_abs_diff > 0.71\n",
      "|   |   |--- mean concave points_abs_diff <= 1.484\t14386\n",
      "|   |   |   |--- mean area_abs_diff <= 0.99\t10972\n",
      "|   |   |   |    output: 2.69\n",
      "|   |   |   |--- mean area_abs_diff > 0.99\n",
      "|   |   |   |    output: 3.63\n",
      "|   |   |--- mean concave points_abs_diff > 1.484\n",
      "|   |   |   |--- area error_abs_diff <= 4.314\t3414\n",
      "|   |   |   |    output: 4.43\n",
      "|   |   |   |--- area error_abs_diff > 4.314\n",
      "|   |   |   |    output: 11.65\n",
      "|--- worst perimeter_abs_diff > 1.481\n",
      "|   |--- mean area_abs_diff <= 3.347\t15660\n",
      "|   |   |--- worst perimeter_abs_diff <= 2.219\t14548\n",
      "|   |   |   |--- mean concave points_abs_diff <= 1.984\t8790\n",
      "|   |   |   |    output: 4.99\n",
      "|   |   |   |--- mean concave points_abs_diff > 1.984\n",
      "|   |   |   |    output: 6.31\n",
      "|   |   |--- worst perimeter_abs_diff > 2.219\n",
      "|   |   |   |--- worst perimeter_abs_diff <= 2.694\t5758\n",
      "|   |   |   |    output: 6.98\n",
      "|   |   |   |--- worst perimeter_abs_diff > 2.694\n",
      "|   |   |   |    output: 8.32\n",
      "|   |--- mean area_abs_diff > 3.347\n",
      "|   |   |--- mean area_abs_diff <= 4.683\t1112\n",
      "|   |   |   |--- mean concavity_abs_diff <= 1.599\t762\n",
      "|   |   |   |    output: 9.37\n",
      "|   |   |   |--- mean concavity_abs_diff > 1.599\n",
      "|   |   |   |    output: 11.39\n",
      "|   |   |--- mean area_abs_diff > 4.683\n",
      "|   |   |   |--- worst area_abs_diff <= 3.619\t350\n",
      "|   |   |   |    output: 14.62\n",
      "|   |   |   |--- worst area_abs_diff > 3.619\n",
      "|   |   |   |    output: 16.48\n"
     ]
    }
   ],
   "source": [
    "model.print_rules(model.get_rules(new_feature_names))"
   ]
  },
  {
   "cell_type": "code",
   "execution_count": 21,
   "id": "feead8a7-b2ca-44a8-a013-b0ba539828cb",
   "metadata": {},
   "outputs": [],
   "source": [
    "#knn_euclid.predict(X_test_scaled)"
   ]
  },
  {
   "cell_type": "code",
   "execution_count": 22,
   "id": "df3553f3-0406-4bfc-9e1d-af9b59193f4c",
   "metadata": {},
   "outputs": [
    {
     "data": {
      "text/plain": [
       "(array([[4.64327197, 8.89654565, 8.99599267]]), array([[343,  36, 153]]))"
      ]
     },
     "execution_count": 22,
     "metadata": {},
     "output_type": "execute_result"
    }
   ],
   "source": [
    "knn_euclid.kneighbors(X=np.array([X_test_scaled[105]]), n_neighbors=3, return_distance=True)"
   ]
  },
  {
   "cell_type": "code",
   "execution_count": 23,
   "id": "05cffe9f-290e-4647-b351-845da18ba5bb",
   "metadata": {},
   "outputs": [
    {
     "data": {
      "text/plain": [
       "array([0, 0, 0, 0, 0, 0])"
      ]
     },
     "execution_count": 23,
     "metadata": {},
     "output_type": "execute_result"
    }
   ],
   "source": [
    "y_train[[36, 31, 89, 343,  36, 153]]"
   ]
  },
  {
   "cell_type": "code",
   "execution_count": 24,
   "id": "056680d8-ec7f-4bbd-b548-a2199dade07f",
   "metadata": {},
   "outputs": [],
   "source": [
    "query_instance = [105]\n",
    "nearest_neigh_PDT = [36, 31, 89]\n",
    "dist_PDT = [1.90, 3.63, 3.63]\n",
    "\n",
    "query_instance = [105]\n",
    "nearest_neigh_EUCLID = [343,  36, 153]\n",
    "dist_EUCLID = [4.64, 8.90, 8.99]\n",
    "\n",
    "vet_class = list(y_train[[36, 31, 89, 343,  36, 153]])"
   ]
  },
  {
   "cell_type": "code",
   "execution_count": 25,
   "id": "acb88f8c-3bdc-4d50-b0d1-d32dd8e79661",
   "metadata": {},
   "outputs": [],
   "source": [
    "list_ind = nearest_neigh_PDT + nearest_neigh_EUCLID\n",
    "dists = dist_PDT + dist_EUCLID"
   ]
  },
  {
   "cell_type": "code",
   "execution_count": 26,
   "id": "0441ad4b-712f-4bba-939c-a199d51ba144",
   "metadata": {},
   "outputs": [
    {
     "name": "stderr",
     "output_type": "stream",
     "text": [
      "/tmp/ipykernel_1962903/395045090.py:1: FutureWarning: DataFrame.applymap has been deprecated. Use DataFrame.map instead.\n",
      "  test_instance = pd.DataFrame(X_test_scaled[[105]], columns = feature_names).applymap((lambda x : round(x,2)))\n"
     ]
    }
   ],
   "source": [
    "test_instance = pd.DataFrame(X_test_scaled[[105]], columns = feature_names).applymap((lambda x : round(x,2)))\n",
    "test_instance['distance'] = ['--']\n",
    "test_instance['class'] = ['m']"
   ]
  },
  {
   "cell_type": "code",
   "execution_count": 27,
   "id": "af9fa9a9-c6a0-4a6c-8477-06a73065097c",
   "metadata": {},
   "outputs": [
    {
     "data": {
      "text/html": [
       "<div>\n",
       "<style scoped>\n",
       "    .dataframe tbody tr th:only-of-type {\n",
       "        vertical-align: middle;\n",
       "    }\n",
       "\n",
       "    .dataframe tbody tr th {\n",
       "        vertical-align: top;\n",
       "    }\n",
       "\n",
       "    .dataframe thead th {\n",
       "        text-align: right;\n",
       "    }\n",
       "</style>\n",
       "<table border=\"1\" class=\"dataframe\">\n",
       "  <thead>\n",
       "    <tr style=\"text-align: right;\">\n",
       "      <th></th>\n",
       "      <th>mean radius</th>\n",
       "      <th>mean perimeter</th>\n",
       "      <th>mean area</th>\n",
       "      <th>mean concavity</th>\n",
       "      <th>mean concave points</th>\n",
       "      <th>area error</th>\n",
       "      <th>worst radius</th>\n",
       "      <th>worst perimeter</th>\n",
       "      <th>worst area</th>\n",
       "      <th>worst concave points</th>\n",
       "      <th>distance</th>\n",
       "      <th>class</th>\n",
       "    </tr>\n",
       "  </thead>\n",
       "  <tbody>\n",
       "    <tr>\n",
       "      <th>0</th>\n",
       "      <td>3.84</td>\n",
       "      <td>3.98</td>\n",
       "      <td>5.44</td>\n",
       "      <td>3.29</td>\n",
       "      <td>3.09</td>\n",
       "      <td>10.84</td>\n",
       "      <td>4.3</td>\n",
       "      <td>4.52</td>\n",
       "      <td>6.58</td>\n",
       "      <td>2.16</td>\n",
       "      <td>--</td>\n",
       "      <td>m</td>\n",
       "    </tr>\n",
       "  </tbody>\n",
       "</table>\n",
       "</div>"
      ],
      "text/plain": [
       "   mean radius  mean perimeter  mean area  mean concavity  \\\n",
       "0         3.84            3.98       5.44            3.29   \n",
       "\n",
       "   mean concave points  area error  worst radius  worst perimeter  worst area  \\\n",
       "0                 3.09       10.84           4.3             4.52        6.58   \n",
       "\n",
       "   worst concave points distance class  \n",
       "0                  2.16       --     m  "
      ]
     },
     "execution_count": 27,
     "metadata": {},
     "output_type": "execute_result"
    }
   ],
   "source": [
    "test_instance"
   ]
  },
  {
   "cell_type": "code",
   "execution_count": 28,
   "id": "f12e6941-c046-44d9-89f7-f8985ccdcf1e",
   "metadata": {},
   "outputs": [
    {
     "name": "stderr",
     "output_type": "stream",
     "text": [
      "/tmp/ipykernel_1962903/3829888431.py:1: FutureWarning: DataFrame.applymap has been deprecated. Use DataFrame.map instead.\n",
      "  A = pd.DataFrame(X_train_scaled[list_ind], columns = feature_names).applymap((lambda x : round(x,2)))\n"
     ]
    }
   ],
   "source": [
    "A = pd.DataFrame(X_train_scaled[list_ind], columns = feature_names).applymap((lambda x : round(x,2)))\n",
    "A['distance'] = dists\n",
    "A['class'] = ['m' for x in vet_class]"
   ]
  },
  {
   "cell_type": "code",
   "execution_count": 29,
   "id": "00882764-83c2-4f63-a97f-4f355cf62116",
   "metadata": {},
   "outputs": [
    {
     "name": "stdout",
     "output_type": "stream",
     "text": [
      "\\begin{tabular}{lrrrrrrrrrrrl}\n",
      "\\toprule\n",
      " & mean radius & mean perimeter & mean area & mean concavity & mean concave points & area error & worst radius & worst perimeter & worst area & worst concave points & distance & class \\\\\n",
      "\\midrule\n",
      "0 & 3.34 & 3.44 & 3.99 & 2.97 & 3.67 & 2.41 & 3.66 & 3.83 & 4.59 & 2.36 & 1.90 & m \\\\\n",
      "1 & 3.02 & 3.07 & 3.49 & 1.68 & 2.52 & 2.12 & 2.96 & 3.08 & 3.43 & 1.94 & 3.63 & m \\\\\n",
      "2 & 3.19 & 3.33 & 3.60 & 2.93 & 3.49 & 1.69 & 2.97 & 3.27 & 3.27 & 2.52 & 3.63 & m \\\\\n",
      "3 & 4.04 & 4.05 & 5.44 & 2.76 & 2.84 & 10.48 & 2.56 & 2.54 & 3.15 & 0.64 & 4.64 & m \\\\\n",
      "4 & 3.34 & 3.44 & 3.99 & 2.97 & 3.67 & 2.41 & 3.66 & 3.83 & 4.59 & 2.36 & 8.90 & m \\\\\n",
      "5 & 2.91 & 3.10 & 3.25 & 4.06 & 3.92 & 4.14 & 2.10 & 2.30 & 2.32 & 1.61 & 8.99 & m \\\\\n",
      "\\bottomrule\n",
      "\\end{tabular}\n",
      "\n"
     ]
    }
   ],
   "source": [
    "print(A.to_latex(float_format= f\"{{:0.2f}}\".format))"
   ]
  },
  {
   "cell_type": "code",
   "execution_count": 30,
   "id": "175872e4-c0d7-4ae5-8b5b-fb740410044a",
   "metadata": {},
   "outputs": [],
   "source": [
    "total= pd.concat((test_instance,A))"
   ]
  },
  {
   "cell_type": "code",
   "execution_count": 31,
   "id": "0c1cc165-c478-4b1d-8365-2d2dc94d09dd",
   "metadata": {},
   "outputs": [
    {
     "name": "stdout",
     "output_type": "stream",
     "text": [
      "\\begin{tabular}{lrrrrrrrrrrll}\n",
      "\\toprule\n",
      " & mean radius & mean perimeter & mean area & mean concavity & mean concave points & area error & worst radius & worst perimeter & worst area & worst concave points & distance & class \\\\\n",
      "\\midrule\n",
      "0 & 3.84 & 3.98 & 5.44 & 3.29 & 3.09 & 10.84 & 4.30 & 4.52 & 6.58 & 2.16 & -- & m \\\\\n",
      "0 & 3.34 & 3.44 & 3.99 & 2.97 & 3.67 & 2.41 & 3.66 & 3.83 & 4.59 & 2.36 & 1.90 & m \\\\\n",
      "1 & 3.02 & 3.07 & 3.49 & 1.68 & 2.52 & 2.12 & 2.96 & 3.08 & 3.43 & 1.94 & 3.63 & m \\\\\n",
      "2 & 3.19 & 3.33 & 3.60 & 2.93 & 3.49 & 1.69 & 2.97 & 3.27 & 3.27 & 2.52 & 3.63 & m \\\\\n",
      "3 & 4.04 & 4.05 & 5.44 & 2.76 & 2.84 & 10.48 & 2.56 & 2.54 & 3.15 & 0.64 & 4.64 & m \\\\\n",
      "4 & 3.34 & 3.44 & 3.99 & 2.97 & 3.67 & 2.41 & 3.66 & 3.83 & 4.59 & 2.36 & 8.90 & m \\\\\n",
      "5 & 2.91 & 3.10 & 3.25 & 4.06 & 3.92 & 4.14 & 2.10 & 2.30 & 2.32 & 1.61 & 8.99 & m \\\\\n",
      "\\bottomrule\n",
      "\\end{tabular}\n",
      "\n"
     ]
    }
   ],
   "source": [
    "print(total.to_latex(float_format= f\"{{:0.2f}}\".format))"
   ]
  },
  {
   "cell_type": "code",
   "execution_count": null,
   "id": "f2745f30-d192-45cd-84f8-26a6f581e42d",
   "metadata": {},
   "outputs": [],
   "source": []
  }
 ],
 "metadata": {
  "kernelspec": {
   "display_name": "Python 3 (ipykernel)",
   "language": "python",
   "name": "python3"
  },
  "language_info": {
   "codemirror_mode": {
    "name": "ipython",
    "version": 3
   },
   "file_extension": ".py",
   "mimetype": "text/x-python",
   "name": "python",
   "nbconvert_exporter": "python",
   "pygments_lexer": "ipython3",
   "version": "3.10.12"
  }
 },
 "nbformat": 4,
 "nbformat_minor": 5
}
